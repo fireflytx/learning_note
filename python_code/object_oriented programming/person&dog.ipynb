{
 "cells": [
  {
   "cell_type": "code",
   "execution_count": 85,
   "metadata": {
    "scrolled": false
   },
   "outputs": [
    {
     "name": "stdout",
     "output_type": "stream",
     "text": [
      "egon\n",
      "二愣子\n",
      "egon is eating\n",
      "from Person\n",
      "二愣子的生命值 990\n"
     ]
    }
   ],
   "source": [
    "class Animal:\n",
    "    '''\n",
    "    人和狗都是动物，所以创造一个Animal基类\n",
    "    '''\n",
    "    def __init__(self, name, aggressivity, life_value):\n",
    "        self.name = name  # 人和狗都有自己的昵称;\n",
    "        self.aggressivity = aggressivity  # 人和狗都有自己的攻击力;\n",
    "        self.life_value = life_value  # 人和狗都有自己的生命值;\n",
    "\n",
    "    def eat(self):\n",
    "        print('%s is eating'%self.name)\n",
    "        \n",
    "    def hurt(self):\n",
    "        print(\"%s的生命值\"%self.name,ha2.life_value)\n",
    "        \n",
    "class Dog(Animal):\n",
    "    '''\n",
    "    狗类，继承Animal类\n",
    "    '''\n",
    "    def __init__(self,name,breed,aggressivity,life_value):\n",
    "        super().__init__(name, aggressivity, life_value) #执行父类Animal的init方法\n",
    "        self.breed = breed  #派生出了新的属性\n",
    "\n",
    "    def bite(self, people):\n",
    "        '''\n",
    "        派生出了新的技能：狗有咬人的技能\n",
    "        :param people:  \n",
    "        '''\n",
    "        people.life_value -= self.aggressivity\n",
    "\n",
    "    def eat(self):\n",
    "        # Animal.eat(self)\n",
    "        #super().eat()\n",
    "        print('from Dog')\n",
    "    \n",
    "class Person(Animal):\n",
    "    '''\n",
    "    人类，继承Animal\n",
    "    '''\n",
    "    def __init__(self,name,aggressivity, life_value,money):\n",
    "        #Animal.__init__(self, name, aggressivity, life_value)\n",
    "        #super(Person, self).__init__(name, aggressivity, life_value)\n",
    "        super().__init__(name,aggressivity, life_value)  #执行父类的init方法\n",
    "        self.money = money   #派生出了新的属性\n",
    "\n",
    "    def attack(self, dog):\n",
    "        '''\n",
    "        派生出了新的技能：人有攻击的技能\n",
    "        :param dog: \n",
    "        '''\n",
    "        dog.life_value -= self.aggressivity\n",
    "\n",
    "    def eat(self):\n",
    "        #super().eat()\n",
    "        Animal.eat(self)\n",
    "        print('from Person')\n",
    "\n",
    "egg = Person('egon',10,1000,600)\n",
    "ha2 = Dog('二愣子','哈士奇',10,1000)\n",
    "print(egg.name)\n",
    "print(ha2.name)\n",
    "egg.eat()\n",
    "egg.attack(ha2)\n",
    "ha2.hurt()\n",
    "\n",
    "\n",
    "\n"
   ]
  },
  {
   "cell_type": "code",
   "execution_count": 91,
   "metadata": {},
   "outputs": [
    {
     "ename": "ImportError",
     "evalue": "cannot import name 'np' from 'numpy' (C:\\Users\\firefly\\Anaconda3\\lib\\site-packages\\numpy\\__init__.py)",
     "output_type": "error",
     "traceback": [
      "\u001b[1;31m---------------------------------------------------------------------------\u001b[0m",
      "\u001b[1;31mImportError\u001b[0m                               Traceback (most recent call last)",
      "\u001b[1;32m<ipython-input-91-4a1776faf59d>\u001b[0m in \u001b[0;36m<module>\u001b[1;34m\u001b[0m\n\u001b[1;32m----> 1\u001b[1;33m \u001b[1;32mfrom\u001b[0m \u001b[0mnumpy\u001b[0m \u001b[1;32mimport\u001b[0m \u001b[0mnp\u001b[0m\u001b[1;33m\u001b[0m\u001b[1;33m\u001b[0m\u001b[0m\n\u001b[0m",
      "\u001b[1;31mImportError\u001b[0m: cannot import name 'np' from 'numpy' (C:\\Users\\firefly\\Anaconda3\\lib\\site-packages\\numpy\\__init__.py)"
     ]
    }
   ],
   "source": [
    "from numpy import np"
   ]
  },
  {
   "cell_type": "code",
   "execution_count": 10,
   "metadata": {},
   "outputs": [],
   "source": [
    "def person(name,age,sex,job):\n",
    "    data = {\n",
    "        'name':name,\n",
    "        'age':ag: e,\n",
    "        'sex':sex,\n",
    "        'job':job\n",
    "    }\n",
    " \n",
    "    return data\n",
    " \n",
    "def dog(name,dog_type):\n",
    "    data = {\n",
    "        'name':name,\n",
    "        'type':dog_type\n",
    "    }\n",
    "    return data"
   ]
  },
  {
   "cell_type": "code",
   "execution_count": 20,
   "metadata": {
    "scrolled": true
   },
   "outputs": [],
   "source": [
    "d1 = dog(\"李磊\",\"京巴\")\n",
    "p1 = person(\"严帅\",36,\"F\",\"运维\")\n"
   ]
  },
  {
   "cell_type": "code",
   "execution_count": 40,
   "metadata": {},
   "outputs": [
    {
     "name": "stdout",
     "output_type": "stream",
     "text": [
      "dog 李磊:wang.wang..wang...\n"
     ]
    }
   ],
   "source": [
    "def bark(d):\n",
    "    print(\"dog %s:wang.wang..wang...\"%d['name'])\n",
    " \n",
    " \n",
    "bark(d1)"
   ]
  },
  {
   "cell_type": "code",
   "execution_count": 54,
   "metadata": {},
   "outputs": [],
   "source": [
    "def person(name,age,sex,job):\n",
    "    data = {\n",
    "        'name':name,\n",
    "        'age':age,\n",
    "        'sex':sex,\n",
    "        'job':job\n",
    "    }\n",
    " \n",
    "    return data\n",
    "def walk(p):\n",
    "    print(\"person %s is walking...\" %p['name'])"
   ]
  },
  {
   "cell_type": "code",
   "execution_count": 55,
   "metadata": {
    "scrolled": false
   },
   "outputs": [
    {
     "name": "stdout",
     "output_type": "stream",
     "text": [
      "person 严帅 is walking...\n"
     ]
    }
   ],
   "source": [
    "p1 = person(\"严帅\",36,\"F\",\"运维\")\n",
    "\n",
    "walk(p1)"
   ]
  },
  {
   "cell_type": "code",
   "execution_count": 118,
   "metadata": {
    "scrolled": true
   },
   "outputs": [],
   "source": [
    "class A:\n",
    "    __role ='CHINA'\n",
    "    @classmethod\n",
    "    def show_role(cls):\n",
    "        print(cls.__role)\n",
    "        \n",
    "    @staticmethod\n",
    "    def get_role():\n",
    "        return A.__role\n",
    "    \n",
    "    @property\n",
    "    def role(self):\n",
    "        return self.__role\n",
    "    \n",
    "a = A()\n",
    "print(a.role)\n",
    "print(a.get_role())\n",
    "a.show_role()\n",
    "\n"
   ]
  },
  {
   "cell_type": "code",
   "execution_count": 103,
   "metadata": {},
   "outputs": [],
   "source": [
    "?staticmethod"
   ]
  },
  {
   "cell_type": "code",
   "execution_count": 120,
   "metadata": {},
   "outputs": [
    {
     "name": "stdout",
     "output_type": "stream",
     "text": [
      "CHINA\n",
      "CHINA\n"
     ]
    },
    {
     "data": {
      "text/plain": [
       "<bound method A.show_role of <class '__main__.A'>>"
      ]
     },
     "execution_count": 120,
     "metadata": {},
     "output_type": "execute_result"
    }
   ],
   "source": [
    "a = A()\n",
    "print(a.role)\n",
    "print(a.get_role())\n",
    "a.show_role"
   ]
  }
 ],
 "metadata": {
  "kernelspec": {
   "display_name": "Python 3",
   "language": "python",
   "name": "python3"
  },
  "language_info": {
   "codemirror_mode": {
    "name": "ipython",
    "version": 3
   },
   "file_extension": ".py",
   "mimetype": "text/x-python",
   "name": "python",
   "nbconvert_exporter": "python",
   "pygments_lexer": "ipython3",
   "version": "3.7.1"
  }
 },
 "nbformat": 4,
 "nbformat_minor": 2
}
