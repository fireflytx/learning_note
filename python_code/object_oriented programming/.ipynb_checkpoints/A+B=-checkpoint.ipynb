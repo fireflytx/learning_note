{
 "cells": [
  {
   "cell_type": "code",
   "execution_count": null,
   "metadata": {
    "scrolled": false
   },
   "outputs": [],
   "source": [
    "import random\n",
    "y = int(input(\"请输入随机最大数：\"))\n",
    "x = int(input(\"请输入算数题数量：\"))\n",
    "k = 4\n",
    "g = len(str(y))\n",
    "fa =f\"{{:{g}}}\"\n",
    "\n",
    "i = 0\n",
    "for i in range(1+(x//k)):\n",
    "    if i < x//k :\n",
    "        z = k\n",
    "\n",
    "    else :\n",
    "        z = x % k\n",
    "\n",
    "    for j in range (z):\n",
    "        a = random.randint(0,y)\n",
    "        b = random.randint(0,y)\n",
    "        c = random.choice([\"+\", \"-\"])\n",
    "    \n",
    "        print(fa.format(a),c,fa.format(b),'=      ',end=' ')\n",
    "\n",
    "    print()"
   ]
  }
 ],
 "metadata": {
  "kernelspec": {
   "display_name": "Python 3",
   "language": "python",
   "name": "python3"
  },
  "language_info": {
   "codemirror_mode": {
    "name": "ipython",
    "version": 3
   },
   "file_extension": ".py",
   "mimetype": "text/x-python",
   "name": "python",
   "nbconvert_exporter": "python",
   "pygments_lexer": "ipython3",
   "version": "3.7.1"
  }
 },
 "nbformat": 4,
 "nbformat_minor": 2
}
