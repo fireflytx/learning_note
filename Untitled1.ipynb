{
 "cells": [
  {
   "cell_type": "code",
   "execution_count": null,
   "metadata": {},
   "outputs": [],
   "source": [
    "import random\n",
    "secret = random.randint(1,99)\n",
    "tries = 0\n",
    "print (\"嗨！我是机器人，这里有一个数字，在1到99内，你有六次机会来猜一猜他！\")\n",
    "\n",
    "while secret and tries < 10 :\n",
    "    \n",
    "    guess = int(input(\"你猜的是多少?\"))\n",
    "    \n",
    "    if guess < secret :\n",
    "        print(\"太小了!\")\n",
    "    elif guess > secret :\n",
    "        print(\"太大了!\")\n",
    "    \n",
    "    tries = tries + 1\n",
    "\n",
    "    if guess == secret :\n",
    "        print(\"哇塞！你居然猜中了！太棒了!\")\n",
    "        \n",
    "        break\n",
    "        \n",
    "    else :\n",
    "        print(\"没猜中！再来一次吧！\")\n",
    "        "
   ]
  },
  {
   "cell_type": "code",
   "execution_count": null,
   "metadata": {},
   "outputs": [],
   "source": [
    "secret"
   ]
  }
 ],
 "metadata": {
  "kernelspec": {
   "display_name": "python3.7",
   "language": "python",
   "name": "python3.7"
  },
  "language_info": {
   "codemirror_mode": {
    "name": "ipython",
    "version": 3
   },
   "file_extension": ".py",
   "mimetype": "text/x-python",
   "name": "python",
   "nbconvert_exporter": "python",
   "pygments_lexer": "ipython3",
   "version": "3.7.1"
  }
 },
 "nbformat": 4,
 "nbformat_minor": 2
}
